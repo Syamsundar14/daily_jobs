{
 "cells": [
  {
   "cell_type": "markdown",
   "metadata": {},
   "source": [
    "# Guessing Game Challenge\n",
    "\n",
    "Let's use `while` loops to create a guessing game.\n",
    "\n",
    "The Challenge:\n",
    "\n",
    "Write a program that picks a random integer from 1 to 100, and has players guess the number. The rules are:\n",
    "\n",
    "1. If a player's guess is less than 1 or greater than 100, say \"OUT OF BOUNDS\"\n",
    "2. On a player's first turn, if their guess is\n",
    " * within 10 of the number, return \"WARM!\"\n",
    " * further than 10 away from the number, return \"COLD!\"\n",
    "3. On all subsequent turns, if a guess is \n",
    " * closer to the number than the previous guess return \"WARMER!\"\n",
    " * farther from the number than the previous guess, return \"COLDER!\"\n",
    "4. When the player's guess equals the number, tell them they've guessed correctly *and* how many guesses it took!\n",
    "\n",
    "You can try this from scratch, or follow the steps outlined below. A separate Solution notebook has been provided. Good luck!\n"
   ]
  },
  {
   "cell_type": "markdown",
   "metadata": {},
   "source": [
    "#### First, pick a random integer from 1 to 100 using the random module and assign it to a variable\n",
    "\n",
    "Note: `random.randint(a,b)` returns a random integer in range `[a, b]`, including both end points."
   ]
  },
  {
   "cell_type": "code",
   "execution_count": 1,
   "metadata": {},
   "outputs": [
    {
     "data": {
      "text/plain": [
       "100"
      ]
     },
     "execution_count": 1,
     "metadata": {},
     "output_type": "execute_result"
    }
   ],
   "source": [
    "import random\n",
    "num=random.randint(1,100)\n",
    "num"
   ]
  },
  {
   "cell_type": "markdown",
   "metadata": {},
   "source": [
    "#### Next, print an introduction to the game and explain the rules"
   ]
  },
  {
   "cell_type": "code",
   "execution_count": 2,
   "metadata": {},
   "outputs": [
    {
     "name": "stdout",
     "output_type": "stream",
     "text": [
      "Please guess a number from 1 to 100\n",
      "If guess is less than 1 or greater than 100                     :  OUT OF BOUNDS\n",
      "If guess is within 10 of the number                             :  WARM!\n",
      "If guess is further than 10 away from the number                :  COLD!\n",
      "If guess is closer to the number than the previous guess return :  WARMER!\n",
      "If guess is farther from the number than the previous guess     :  COLDER!\n",
      "If guess is guess equals the number                             :  No. of guesses will be provided\n"
     ]
    }
   ],
   "source": [
    "print('Please guess a number from 1 to 100')\n",
    "print('If guess is less than 1 or greater than 100                     :  OUT OF BOUNDS')\n",
    "print('If guess is within 10 of the number                             :  WARM!')\n",
    "print('If guess is further than 10 away from the number                :  COLD!')\n",
    "print('If guess is closer to the number than the previous guess return :  WARMER!')\n",
    "print('If guess is farther from the number than the previous guess     :  COLDER!')\n",
    "print('If guess is guess equals the number                             :  No. of guesses will be provided' )"
   ]
  },
  {
   "cell_type": "markdown",
   "metadata": {},
   "source": [
    "#### Create a list to store guesses\n",
    "\n",
    "Hint: zero is a good placeholder value. It's useful because it evaluates to \"False\""
   ]
  },
  {
   "cell_type": "code",
   "execution_count": 3,
   "metadata": {},
   "outputs": [],
   "source": [
    "guesses=[]"
   ]
  },
  {
   "cell_type": "markdown",
   "metadata": {},
   "source": [
    "#### Write a `while` loop that asks for a valid guess. Test it a few times to make sure it works."
   ]
  },
  {
   "cell_type": "code",
   "execution_count": 4,
   "metadata": {},
   "outputs": [
    {
     "name": "stdout",
     "output_type": "stream",
     "text": [
      "Guess a number from 1 to 100 :0\n",
      "OUT OF BOUNDS\n",
      "Guess a number from 1 to 100 :69\n"
     ]
    }
   ],
   "source": [
    "while True:\n",
    "    guess=int(input('Guess a number from 1 to 100 :'))\n",
    "    guesses.append(guess)\n",
    "    \n",
    "    if guess<1 or guess>100:\n",
    "        print('OUT OF BOUNDS')\n",
    "        continue\n",
    "    break"
   ]
  },
  {
   "cell_type": "markdown",
   "metadata": {},
   "source": [
    "#### Write a `while` loop that compares the player's guess to our number. If the player guesses correctly, break from the loop. Otherwise, tell the player if they're warmer or colder, and continue asking for guesses.\n",
    "\n",
    "Some hints:\n",
    "* it may help to sketch out all possible combinations on paper first!\n",
    "* you can use the `abs()` function to find the positive difference between two numbers\n",
    "* if you append all new guesses to the list, then the previous guess is given as `guesses[-2]`"
   ]
  },
  {
   "cell_type": "code",
   "execution_count": 5,
   "metadata": {},
   "outputs": [
    {
     "name": "stdout",
     "output_type": "stream",
     "text": [
      "guess a number from 1 to 100 : 0\n",
      "OUT OF BOUNDS\n",
      "guess a number from 1 to 100 : 56\n",
      "COLDER!\n",
      "COLD!\n",
      "guess a number from 1 to 100 : 126\n",
      "OUT OF BOUNDS\n",
      "guess a number from 1 to 100 : 85\n",
      "WARMER!\n",
      "COLD!\n",
      "guess a number from 1 to 100 : 65\n",
      "COLDER!\n",
      "COLD!\n",
      "guess a number from 1 to 100 : 89\n",
      "WARMER!\n",
      "COLD!\n",
      "guess a number from 1 to 100 : 75\n",
      "COLDER!\n",
      "COLD!\n",
      "guess a number from 1 to 100 : 45\n",
      "COLDER!\n",
      "COLD!\n",
      "guess a number from 1 to 100 : 44\n",
      "COLDER!\n",
      "COLD!\n",
      "guess a number from 1 to 100 : 42\n",
      "COLDER!\n",
      "COLD!\n",
      "guess a number from 1 to 100 : 18\n",
      "COLDER!\n",
      "COLD!\n",
      "guess a number from 1 to 100 : 96\n",
      "WARMER!\n",
      "WAEM!\n",
      "guess a number from 1 to 100 : 62\n",
      "COLDER!\n",
      "COLD!\n",
      "guess a number from 1 to 100 : 69\n",
      "WARMER!\n",
      "COLD!\n",
      "guess a number from 1 to 100 : 69\n",
      "COLDER!\n",
      "COLD!\n",
      "guess a number from 1 to 100 : -2\n",
      "OUT OF BOUNDS\n",
      "guess a number from 1 to 100 : 136\n",
      "OUT OF BOUNDS\n",
      "guess a number from 1 to 100 : 67\n",
      "COLDER!\n",
      "COLD!\n",
      "guess a number from 1 to 100 : 62\n",
      "COLDER!\n",
      "COLD!\n",
      "guess a number from 1 to 100 : 67\n",
      "WARMER!\n",
      "COLD!\n",
      "guess a number from 1 to 100 : 1\n",
      "COLDER!\n",
      "COLD!\n",
      "guess a number from 1 to 100 : 2\n",
      "WARMER!\n",
      "COLD!\n",
      "guess a number from 1 to 100 : 3\n",
      "WARMER!\n",
      "COLD!\n",
      "guess a number from 1 to 100 : 4\n",
      "WARMER!\n",
      "COLD!\n",
      "guess a number from 1 to 100 : 5\n",
      "WARMER!\n",
      "COLD!\n",
      "guess a number from 1 to 100 : 6\n",
      "WARMER!\n",
      "COLD!\n",
      "guess a number from 1 to 100 : 7\n",
      "WARMER!\n",
      "COLD!\n",
      "guess a number from 1 to 100 : 8\n",
      "WARMER!\n",
      "COLD!\n",
      "guess a number from 1 to 100 : 9\n",
      "WARMER!\n",
      "COLD!\n",
      "guess a number from 1 to 100 : 10\n",
      "WARMER!\n",
      "COLD!\n",
      "guess a number from 1 to 100 : 11\n",
      "WARMER!\n",
      "COLD!\n",
      "guess a number from 1 to 100 : 13\n",
      "WARMER!\n",
      "COLD!\n",
      "guess a number from 1 to 100 : 14\n",
      "WARMER!\n",
      "COLD!\n",
      "guess a number from 1 to 100 : 12\n",
      "COLDER!\n",
      "COLD!\n",
      "guess a number from 1 to 100 : 15\n",
      "WARMER!\n",
      "COLD!\n",
      "guess a number from 1 to 100 : 16\n",
      "WARMER!\n",
      "COLD!\n",
      "guess a number from 1 to 100 : 17\n",
      "WARMER!\n",
      "COLD!\n",
      "guess a number from 1 to 100 : 18\n",
      "WARMER!\n",
      "COLD!\n",
      "guess a number from 1 to 100 : 19\n",
      "WARMER!\n",
      "COLD!\n",
      "guess a number from 1 to 100 : 20\n",
      "WARMER!\n",
      "COLD!\n",
      "guess a number from 1 to 100 : 21\n",
      "WARMER!\n",
      "COLD!\n",
      "guess a number from 1 to 100 : 22\n",
      "WARMER!\n",
      "COLD!\n",
      "guess a number from 1 to 100 : 23\n",
      "WARMER!\n",
      "COLD!\n",
      "guess a number from 1 to 100 : 24\n",
      "WARMER!\n",
      "COLD!\n",
      "guess a number from 1 to 100 : 25\n",
      "WARMER!\n",
      "COLD!\n",
      "guess a number from 1 to 100 : 26\n",
      "WARMER!\n",
      "COLD!\n",
      "guess a number from 1 to 100 : 27\n",
      "WARMER!\n",
      "COLD!\n",
      "guess a number from 1 to 100 : 100\n",
      "You guessed in  45 guesses\n"
     ]
    }
   ],
   "source": [
    "while True:\n",
    "\n",
    "    # we can copy the code from above to take an input\n",
    "    guess=int(input('guess a number from 1 to 100 : '))\n",
    "    if guess<1 or guess>100:\n",
    "        print(\"OUT OF BOUNDS\")\n",
    "        continue\n",
    "    \n",
    "    if num==guess:\n",
    "        print('You guessed in ',len(guesses), 'guesses')\n",
    "        break\n",
    "    guesses.append(guess)\n",
    "    \n",
    "    if abs(guesses[-2]-num)>abs(guess-num):\n",
    "        print('WARMER!')\n",
    "    else:\n",
    "        print('COLDER!')\n",
    "    \n",
    "    if abs(num-guess)<=10:\n",
    "        print(\"WAEM!\")\n",
    "    else:\n",
    "        print('COLD!')\n",
    "\n",
    "    "
   ]
  },
  {
   "cell_type": "code",
   "execution_count": null,
   "metadata": {},
   "outputs": [],
   "source": []
  },
  {
   "cell_type": "code",
   "execution_count": null,
   "metadata": {},
   "outputs": [],
   "source": []
  },
  {
   "cell_type": "code",
   "execution_count": null,
   "metadata": {},
   "outputs": [],
   "source": []
  },
  {
   "cell_type": "code",
   "execution_count": null,
   "metadata": {},
   "outputs": [],
   "source": []
  },
  {
   "cell_type": "code",
   "execution_count": null,
   "metadata": {},
   "outputs": [],
   "source": []
  }
 ],
 "metadata": {
  "kernelspec": {
   "display_name": "Python 3 (ipykernel)",
   "language": "python",
   "name": "python3"
  },
  "language_info": {
   "codemirror_mode": {
    "name": "ipython",
    "version": 3
   },
   "file_extension": ".py",
   "mimetype": "text/x-python",
   "name": "python",
   "nbconvert_exporter": "python",
   "pygments_lexer": "ipython3",
   "version": "3.11.4"
  }
 },
 "nbformat": 4,
 "nbformat_minor": 2
}
